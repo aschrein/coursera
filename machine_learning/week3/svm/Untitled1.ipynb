{
 "cells": [
  {
   "cell_type": "code",
   "execution_count": 2,
   "metadata": {
    "collapsed": false
   },
   "outputs": [],
   "source": [
    "from sklearn import datasets"
   ]
  },
  {
   "cell_type": "code",
   "execution_count": 30,
   "metadata": {
    "collapsed": false
   },
   "outputs": [],
   "source": [
    "news_group = datasets.fetch_20newsgroups( subset = \"all\" , categories = [ \"alt.atheism\" , \"sci.space\" ] )\n",
    "y = news_group.target"
   ]
  },
  {
   "cell_type": "code",
   "execution_count": 31,
   "metadata": {
    "collapsed": true
   },
   "outputs": [],
   "source": [
    "from sklearn.feature_extraction.text import TfidfVectorizer"
   ]
  },
  {
   "cell_type": "code",
   "execution_count": 42,
   "metadata": {
    "collapsed": false
   },
   "outputs": [],
   "source": [
    "from sklearn.svm import SVC\n",
    "import numpy as np\n",
    "from sklearn.model_selection import KFold , cross_val_score\n",
    "from sklearn.grid_search import GridSearchCV"
   ]
  },
  {
   "cell_type": "code",
   "execution_count": 88,
   "metadata": {
    "collapsed": false
   },
   "outputs": [],
   "source": [
    "fvec = TfidfVectorizer()\n",
    "x = fvec.fit_transform( news_group.data )"
   ]
  },
  {
   "cell_type": "code",
   "execution_count": 89,
   "metadata": {
    "collapsed": false
   },
   "outputs": [
    {
     "data": {
      "text/plain": [
       "GridSearchCV(cv=None, error_score='raise',\n",
       "       estimator=SVC(C=1.0, cache_size=200, class_weight=None, coef0=0.0,\n",
       "  decision_function_shape=None, degree=3, gamma='auto', kernel='linear',\n",
       "  max_iter=-1, probability=False, random_state=241, shrinking=True,\n",
       "  tol=0.001, verbose=False),\n",
       "       fit_params={}, iid=True, n_jobs=1,\n",
       "       param_grid={'C': array([  1.00000e-05,   1.00000e-04,   1.00000e-03,   1.00000e-02,\n",
       "         1.00000e-01,   1.00000e+00,   1.00000e+01,   1.00000e+02,\n",
       "         1.00000e+03,   1.00000e+04,   1.00000e+05])},\n",
       "       pre_dispatch='2*n_jobs', refit=True, scoring='accuracy', verbose=0)"
      ]
     },
     "execution_count": 89,
     "metadata": {},
     "output_type": "execute_result"
    }
   ],
   "source": [
    "grid = { 'C' : np.power( 10.0 , np.arange( -5 , 6 )) }\n",
    "cvg = KFold( n_splits = 5 , shuffle = True , random_state = 241 )\n",
    "svc = SVC( kernel = 'linear' , random_state = 241 )\n",
    "gs = GridSearchCV( svc , grid , scoring = \"accuracy\" )\n",
    "gs.fit( x , y )"
   ]
  },
  {
   "cell_type": "code",
   "execution_count": 81,
   "metadata": {
    "collapsed": false
   },
   "outputs": [
    {
     "name": "stdout",
     "output_type": "stream",
     "text": [
      "0.552631578947\n",
      "{'C': 1.0000000000000001e-05}\n",
      "0.552631578947\n",
      "{'C': 0.0001}\n",
      "0.552631578947\n",
      "{'C': 0.001}\n",
      "0.552631578947\n",
      "{'C': 0.01}\n",
      "0.937290033595\n",
      "{'C': 0.10000000000000001}\n",
      "0.992161254199\n",
      "{'C': 1.0}\n",
      "0.992721164614\n",
      "{'C': 10.0}\n",
      "0.992721164614\n",
      "{'C': 100.0}\n",
      "0.992721164614\n",
      "{'C': 1000.0}\n",
      "0.992721164614\n",
      "{'C': 10000.0}\n",
      "0.992721164614\n",
      "{'C': 100000.0}\n"
     ]
    }
   ],
   "source": [
    "for a in gs.grid_scores_:\n",
    "    print a.mean_validation_score\n",
    "    print a.parameters"
   ]
  },
  {
   "cell_type": "code",
   "execution_count": 90,
   "metadata": {
    "collapsed": false
   },
   "outputs": [
    {
     "data": {
      "text/plain": [
       "SVC(C=100.0, cache_size=200, class_weight=None, coef0=0.0,\n",
       "  decision_function_shape=None, degree=3, gamma='auto', kernel='linear',\n",
       "  max_iter=-1, probability=False, random_state=241, shrinking=True,\n",
       "  tol=0.001, verbose=False)"
      ]
     },
     "execution_count": 90,
     "metadata": {},
     "output_type": "execute_result"
    }
   ],
   "source": [
    "svc = SVC( kernel = 'linear' , random_state = 241 , C = 100.0 )\n",
    "svc.fit( x , y )"
   ]
  },
  {
   "cell_type": "code",
   "execution_count": 116,
   "metadata": {
    "collapsed": false
   },
   "outputs": [
    {
     "name": "stdout",
     "output_type": "stream",
     "text": [
      "2.72025270605\n",
      "-1.97206528531\n",
      "-1.29997058932\n",
      "-1.2572771582\n",
      "1.24846413748\n",
      "1.19599660331\n",
      "-1.15585139495\n",
      "-1.126690662\n",
      "-1.10719566752\n",
      "1.0899040656\n",
      "-1.04656590302\n",
      "1.04588936086\n",
      "-1.01971672103\n",
      "-1.0147797741\n",
      "1.00958128972\n",
      "-0.988177994513\n",
      "0.951558177081\n",
      "-0.93600518007\n",
      "-0.933784733442\n",
      "-0.928315446885\n"
     ]
    }
   ],
   "source": [
    "s = np.argsort( np.array( np.absolute( np.array( svc.coef_.data ) ) ) , axis = 0 )\n",
    "#s.sort()\n",
    "s[:] = s[::-1]\n",
    "for i in range( 0 , 20 ):\n",
    "    print svc.coef_.data[ s[ i ] ]"
   ]
  },
  {
   "cell_type": "code",
   "execution_count": 118,
   "metadata": {
    "collapsed": false
   },
   "outputs": [
    {
     "name": "stdout",
     "output_type": "stream",
     "text": [
      "[u'space', u'god', u'atheism', u'atheists', u'moon', u'sky', u'religion', u'bible', u'keith', u'nick', u'enviroleague', u'nasa', u'cobb', u'religious', u'sci', u'mathew', u'ether', u'islamic', u'unm', u'halat']\n"
     ]
    }
   ],
   "source": [
    "words = []\n",
    "for i in range( 0 , 10 ):\n",
    "    words.append( fvec.get_feature_names()[ svc.coef_.indices[ s[ i ] ] ] )\n",
    "for i in range( 0 , 10 ):\n",
    "    print word"
   ]
  },
  {
   "cell_type": "code",
   "execution_count": null,
   "metadata": {
    "collapsed": true
   },
   "outputs": [],
   "source": []
  }
 ],
 "metadata": {
  "anaconda-cloud": {},
  "kernelspec": {
   "display_name": "Python [conda root]",
   "language": "python",
   "name": "conda-root-py"
  },
  "language_info": {
   "codemirror_mode": {
    "name": "ipython",
    "version": 3
   },
   "file_extension": ".py",
   "mimetype": "text/x-python",
   "name": "python",
   "nbconvert_exporter": "python",
   "pygments_lexer": "ipython3",
   "version": "3.5.2"
  }
 },
 "nbformat": 4,
 "nbformat_minor": 0
}
