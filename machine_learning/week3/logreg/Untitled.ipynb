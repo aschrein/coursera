{
 "cells": [
  {
   "cell_type": "code",
   "execution_count": 43,
   "metadata": {
    "collapsed": true
   },
   "outputs": [],
   "source": [
    "import numpy as np\n",
    "import pandas\n",
    "from sklearn.metrics import roc_auc_score\n",
    "import sklearn"
   ]
  },
  {
   "cell_type": "code",
   "execution_count": 4,
   "metadata": {
    "collapsed": false
   },
   "outputs": [],
   "source": [
    "raw_data = pandas.read_csv( \"data-logistic.csv\" , header = None )"
   ]
  },
  {
   "cell_type": "code",
   "execution_count": 34,
   "metadata": {
    "collapsed": false
   },
   "outputs": [],
   "source": [
    "x = np.array( raw_data[[1,2]])\n",
    "y = np.array( raw_data[[0]]).reshape( (raw_data.shape[0]) )"
   ]
  },
  {
   "cell_type": "code",
   "execution_count": 93,
   "metadata": {
    "collapsed": false
   },
   "outputs": [
    {
     "name": "stdout",
     "output_type": "stream",
     "text": [
      "0.5\n",
      "[ 0.28810819  0.0917091 ]\n"
     ]
    }
   ],
   "source": [
    "w = np.array([ 0.0 , 0.0 ])\n",
    "print roc_auc_score(y,x.dot( w ) )\n",
    "def iter(k, reg = 0.0):\n",
    "    xw = x.dot( w )\n",
    "    yxw = np.multiply( y ,xw.T )\n",
    "    f = 1.0 - 1 / ( 1.0 + np.exp( -yxw ) )\n",
    "    for i in range( 0 , len(w)):\n",
    "        yx = np.multiply( y , [row[i] for row in x] )\n",
    "        res = yx.dot( f )\n",
    "        w[ i ] -= k * reg * w[ i ]\n",
    "        w[ i ] += k * res  / yx.shape[ 0 ]\n",
    "        \n",
    "for i in range( 0 , 10000 ):\n",
    "    iter( 0.1 )\n",
    "print w"
   ]
  },
  {
   "cell_type": "code",
   "execution_count": 94,
   "metadata": {
    "collapsed": false
   },
   "outputs": [
    {
     "name": "stdout",
     "output_type": "stream",
     "text": [
      "0.926761904762\n"
     ]
    }
   ],
   "source": [
    "print roc_auc_score(y,x.dot( w ) )"
   ]
  },
  {
   "cell_type": "code",
   "execution_count": 98,
   "metadata": {
    "collapsed": false
   },
   "outputs": [
    {
     "name": "stdout",
     "output_type": "stream",
     "text": [
      "[ 0.02855943  0.02478088]\n"
     ]
    }
   ],
   "source": [
    "for i in range( 0 , len(w)):\n",
    "    w[ i ] = 0.0\n",
    "for i in range( 0 , 10000 ):\n",
    "    iter( 0.1 , 10.0 )\n",
    "print w"
   ]
  },
  {
   "cell_type": "code",
   "execution_count": 99,
   "metadata": {
    "collapsed": false,
    "scrolled": true
   },
   "outputs": [
    {
     "name": "stdout",
     "output_type": "stream",
     "text": [
      "0.936285714286\n"
     ]
    }
   ],
   "source": [
    "from sklearn.metrics import roc_auc_score\n",
    "print roc_auc_score(y,1.0 / ( 1.0 + np.exp( -x.dot( w ) ) ) )"
   ]
  },
  {
   "cell_type": "code",
   "execution_count": null,
   "metadata": {
    "collapsed": true
   },
   "outputs": [],
   "source": []
  }
 ],
 "metadata": {
  "anaconda-cloud": {},
  "kernelspec": {
   "display_name": "Python [default]",
   "language": "python",
   "name": "python2"
  },
  "language_info": {
   "codemirror_mode": {
    "name": "ipython",
    "version": 2
   },
   "file_extension": ".py",
   "mimetype": "text/x-python",
   "name": "python",
   "nbconvert_exporter": "python",
   "pygments_lexer": "ipython2",
   "version": "2.7.12"
  }
 },
 "nbformat": 4,
 "nbformat_minor": 0
}
