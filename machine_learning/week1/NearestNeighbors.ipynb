{
 "cells": [
  {
   "cell_type": "code",
   "execution_count": 1,
   "metadata": {
    "collapsed": false
   },
   "outputs": [
    {
     "name": "stdout",
     "output_type": "stream",
     "text": [
      "29 0.977619047619\n"
     ]
    }
   ],
   "source": [
    "import sklearn.neighbors\n",
    "import numpy as np\n",
    "raw_data = open( \"wine.data.txt\" )\n",
    "params = []\n",
    "classes = []\n",
    "for line in raw_data:\n",
    "    values = line.strip().split( \",\" )\n",
    "    classes.append( int( values[ 0 ] ) )\n",
    "    params.append( [ float( x ) for x in values[ 1 : ] ] )\n",
    "raw_data.close()\n",
    "params = np.array( params )\n",
    "classes = np.array( classes )\n",
    "from sklearn.preprocessing import scale\n",
    "params = scale( params , 0 )\n",
    "#print classes\n",
    "#print params\n",
    "max_i = 0\n",
    "max_v = -1\n",
    "for i in range( 1 , 51 ):\n",
    "    neigh = sklearn.neighbors.KNeighborsClassifier( n_neighbors = i )\n",
    "    from sklearn.model_selection import KFold , cross_val_score\n",
    "    kf = KFold( n_splits = 5 , shuffle = True , random_state=42 )\n",
    "    cvs = cross_val_score( neigh , params , classes , cv = kf )\n",
    "    mn = cvs.mean()\n",
    "    if mn > max_v:\n",
    "        max_v = mn\n",
    "        max_i = i\n",
    "    #print cvs.mean()\n",
    "print max_i , max_v"
   ]
  },
  {
   "cell_type": "code",
   "execution_count": null,
   "metadata": {
    "collapsed": true
   },
   "outputs": [],
   "source": []
  }
 ],
 "metadata": {
  "kernelspec": {
   "display_name": "Python [default]",
   "language": "python",
   "name": "python2"
  },
  "language_info": {
   "codemirror_mode": {
    "name": "ipython",
    "version": 2
   },
   "file_extension": ".py",
   "mimetype": "text/x-python",
   "name": "python",
   "nbconvert_exporter": "python",
   "pygments_lexer": "ipython2",
   "version": "2.7.12"
  }
 },
 "nbformat": 4,
 "nbformat_minor": 0
}
