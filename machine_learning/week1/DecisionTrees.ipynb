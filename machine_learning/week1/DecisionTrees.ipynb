{
 "cells": [
  {
   "cell_type": "code",
   "execution_count": 2,
   "metadata": {
    "collapsed": false
   },
   "outputs": [],
   "source": [
    "import pandas\n",
    "data = pandas.read_csv( \"C://Users//anton//Documents//titanic.csv\" , index_col = \"PassengerId\" )"
   ]
  },
  {
   "cell_type": "code",
   "execution_count": 3,
   "metadata": {
    "collapsed": false
   },
   "outputs": [
    {
     "name": "stdout",
     "output_type": "stream",
     "text": [
      "total passengers: (891, 11)\n",
      "0    549\n",
      "1    342\n",
      "Name: Survived, dtype: int64\n",
      "survivor ratio: 38.3838383838\n"
     ]
    }
   ],
   "source": [
    "survivor_stats = data[ \"Survived\" ].value_counts()\n",
    "print \"total passengers:\" , data.shape\n",
    "print survivor_stats\n",
    "print \"survivor ratio:\" , float( survivor_stats[ 1 ] ) / data.shape[ 0 ] * 100"
   ]
  },
  {
   "cell_type": "code",
   "execution_count": 11,
   "metadata": {
    "collapsed": false
   },
   "outputs": [
    {
     "name": "stdout",
     "output_type": "stream",
     "text": [
      "male      577\n",
      "female    314\n",
      "Name: Sex, dtype: int64\n"
     ]
    }
   ],
   "source": [
    "sex_stats = data[ \"Sex\" ].value_counts()\n",
    "print sex_stats"
   ]
  },
  {
   "cell_type": "code",
   "execution_count": 5,
   "metadata": {
    "collapsed": false
   },
   "outputs": [
    {
     "name": "stdout",
     "output_type": "stream",
     "text": [
      "first class passengers ratio: 24.2424242424\n"
     ]
    }
   ],
   "source": [
    "age_stats = data[ \"Age\" ].value_counts()\n",
    "class_stats = data[ \"Pclass\" ].value_counts()\n",
    "print \"first class passengers ratio:\" , float( class_stats[ 1 ] ) / data.shape[ 0 ] * 100"
   ]
  },
  {
   "cell_type": "code",
   "execution_count": 6,
   "metadata": {
    "collapsed": false
   },
   "outputs": [
    {
     "name": "stdout",
     "output_type": "stream",
     "text": [
      "average age: 29.6991176471  std deviation: 28.0\n"
     ]
    }
   ],
   "source": [
    "print \"average age:\" , data[ \"Age\" ].mean() , \" std deviation:\" , data[ \"Age\" ].median()"
   ]
  },
  {
   "cell_type": "code",
   "execution_count": 7,
   "metadata": {
    "collapsed": false
   },
   "outputs": [
    {
     "name": "stdout",
     "output_type": "stream",
     "text": [
      "          SibSp     Parch\n",
      "SibSp  1.000000  0.414838\n",
      "Parch  0.414838  1.000000\n"
     ]
    }
   ],
   "source": [
    "print data[[ \"SibSp\" , \"Parch\" ]].corr()"
   ]
  },
  {
   "cell_type": "code",
   "execution_count": 8,
   "metadata": {
    "collapsed": false
   },
   "outputs": [
    {
     "name": "stdout",
     "output_type": "stream",
     "text": [
      "Anna                             15\n",
      "Mary                             14\n",
      "Elizabeth                        11\n",
      "Margaret                         10\n",
      "Alice                             6\n",
      "Maria                             5\n",
      "Helen                             5\n",
      "Bertha                            5\n",
      "Marie                             4\n",
      "Catherine                         4\n",
      "Ellen                             4\n",
      "Annie                             4\n",
      "Augusta                           4\n",
      "Emily                             4\n",
      "Ada                               4\n",
      "Elisabeth                         3\n",
      "Jane                              3\n",
      "Katherine                         3\n",
      "Florence                          3\n",
      "Hanora                            3\n",
      "Marion                            3\n",
      "Ida                               3\n",
      "Edith                             3\n",
      "Madeleine                         3\n",
      "\"Mrs                              3\n",
      "Amelia                            3\n",
      "Lillian                           3\n",
      "Mabel                             2\n",
      "Mathilde                          2\n",
      "Bridget                           2\n",
      "                                 ..\n",
      "Lyyli                             1\n",
      "Stina                             1\n",
      "Torborg                           1\n",
      "Ann                               1\n",
      "Masselmani, Mrs. Fatima           1\n",
      "Kelly, Mrs. Florence \"Fannie\"     1\n",
      "Malake                            1\n",
      "Robina                            1\n",
      "Brigdet                           1\n",
      "Helena                            1\n",
      "Carla                             1\n",
      "Tillie                            1\n",
      "Sagesser, Mlle. Emma              1\n",
      "Elise                             1\n",
      "Alfrida                           1\n",
      "Nourelain                         1\n",
      "Edwiga                            1\n",
      "Ingeborg                          1\n",
      "Manca                             1\n",
      "Aloisia                           1\n",
      "Daisy                             1\n",
      "Wendla                            1\n",
      "Ellis                             1\n",
      "Juliet                            1\n",
      "Juliette                          1\n",
      "Margareth                         1\n",
      "Eliza                             1\n",
      "Lutie                             1\n",
      "Helmina                           1\n",
      "Sara                              1\n",
      "Name: Name, dtype: int64\n"
     ]
    }
   ],
   "source": [
    "import re\n",
    "def extractName( name ):\n",
    "    if \"Mrs\" in name:\n",
    "        try:\n",
    "            return re.search( \"\\(([^()]*)\\)\" , name ).group( 1 ).split( \" \" )[ 0 ]\n",
    "        except:\n",
    "            return name\n",
    "    else:\n",
    "        if \"Miss\" in name:\n",
    "            try:\n",
    "                return re.search( \"Miss.[ ]+([^ ]+)[ ]*\" , name ).group( 1 )\n",
    "            except:\n",
    "                return name\n",
    "        else:\n",
    "            return name\n",
    "raw_names = data.ix[ data.Sex == \"female\" , \"Name\" ]\n",
    "print raw_names.map( extractName ).value_counts()"
   ]
  },
  {
   "cell_type": "code",
   "execution_count": 12,
   "metadata": {
    "collapsed": true
   },
   "outputs": [],
   "source": [
    "from sklearn.tree import DecisionTreeClassifier"
   ]
  },
  {
   "cell_type": "code",
   "execution_count": 33,
   "metadata": {
    "collapsed": false
   },
   "outputs": [
    {
     "name": "stdout",
     "output_type": "stream",
     "text": [
      "[ 0.13800177  0.30168748  0.25979854  0.30051221]\n"
     ]
    }
   ],
   "source": [
    "import numpy as np\n",
    "sample_data = data.ix[ np.isnan( data.Age ) == False  , [ \"Survived\" , \"Pclass\" , \"Fare\" , \"Age\" , \"Sex\" ] ]\n",
    "sample_data.ix[ sample_data.Sex == \"female\" , \"Sex\" ] = 0\n",
    "sample_data.ix[ sample_data.Sex == \"male\" , \"Sex\" ] = 1\n",
    "target_data = sample_data[ \"Survived\" ]\n",
    "sample_data = sample_data[ [ \"Pclass\" , \"Fare\" , \"Age\" , \"Sex\" ] ]\n",
    "tree = DecisionTreeClassifier()\n",
    "tree = tree.fit( sample_data , target_data )\n",
    "print tree.feature_importances_"
   ]
  },
  {
   "cell_type": "code",
   "execution_count": null,
   "metadata": {
    "collapsed": true
   },
   "outputs": [],
   "source": []
  }
 ],
 "metadata": {
  "anaconda-cloud": {},
  "kernelspec": {
   "display_name": "Python [default]",
   "language": "python",
   "name": "python2"
  },
  "language_info": {
   "codemirror_mode": {
    "name": "ipython",
    "version": 2
   },
   "file_extension": ".py",
   "mimetype": "text/x-python",
   "name": "python",
   "nbconvert_exporter": "python",
   "pygments_lexer": "ipython2",
   "version": "2.7.12"
  }
 },
 "nbformat": 4,
 "nbformat_minor": 0
}
