{
 "cells": [
  {
   "cell_type": "code",
   "execution_count": 18,
   "metadata": {
    "collapsed": false
   },
   "outputs": [],
   "source": [
    "from sklearn.neighbors import KNeighborsRegressor\n",
    "import sklearn\n",
    "import sklearn.neighbors\n",
    "import numpy as np"
   ]
  },
  {
   "cell_type": "code",
   "execution_count": 21,
   "metadata": {
    "collapsed": false
   },
   "outputs": [
    {
     "name": "stdout",
     "output_type": "stream",
     "text": [
      "1.0 0.801382519128\n"
     ]
    }
   ],
   "source": [
    "raw_data = open( \"housing.data.txt\" )\n",
    "params = []\n",
    "classes = []\n",
    "for line in raw_data:\n",
    "    values = line.strip().split( \" \" )\n",
    "    values = [ v  for v in values if v != '' ]\n",
    "    #print values\n",
    "    classes.append( float( values[ 13 ] ) )\n",
    "    params.append( [ float( x ) for x in values[ : 13 ] ] )\n",
    "raw_data.close()\n",
    "params = np.array( params )\n",
    "classes = np.array( classes )\n",
    "from sklearn.preprocessing import scale\n",
    "params = scale( params , 0 )\n",
    "max_i = 0\n",
    "max_v = -1\n",
    "for i in range( 0 , 200 ):\n",
    "    p = 1.0 + i / 200.0 * 10.0\n",
    "    neigh = KNeighborsRegressor( n_neighbors = 5 , weights = \"distance\" , p = p )\n",
    "    from sklearn.model_selection import KFold , cross_val_score\n",
    "    kf = KFold( n_splits = 5 , shuffle = True , random_state=42 )\n",
    "    cvs = cross_val_score( neigh , params , classes , cv = kf )\n",
    "    mn = cvs.mean()\n",
    "    if mn > max_v:\n",
    "        max_v = mn\n",
    "        max_i = p\n",
    "    #print cvs.mean()\n",
    "print max_i , max_v"
   ]
  },
  {
   "cell_type": "code",
   "execution_count": null,
   "metadata": {
    "collapsed": true
   },
   "outputs": [],
   "source": []
  }
 ],
 "metadata": {
  "kernelspec": {
   "display_name": "Python 2",
   "language": "python",
   "name": "python2"
  },
  "language_info": {
   "codemirror_mode": {
    "name": "ipython",
    "version": 2
   },
   "file_extension": ".py",
   "mimetype": "text/x-python",
   "name": "python",
   "nbconvert_exporter": "python",
   "pygments_lexer": "ipython2",
   "version": "2.7.11"
  }
 },
 "nbformat": 4,
 "nbformat_minor": 0
}
