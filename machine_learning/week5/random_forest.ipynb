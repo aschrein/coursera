{
 "cells": [
  {
   "cell_type": "code",
   "execution_count": 2,
   "metadata": {
    "collapsed": true
   },
   "outputs": [],
   "source": [
    "import pandas\n",
    "data = pandas.read_csv( \"abalone.csv\" )"
   ]
  },
  {
   "cell_type": "code",
   "execution_count": 3,
   "metadata": {
    "collapsed": true
   },
   "outputs": [],
   "source": [
    "data['Sex'] = data['Sex'].map(lambda x: 1 if x == 'M' else (-1 if x == 'F' else 0))"
   ]
  },
  {
   "cell_type": "code",
   "execution_count": 21,
   "metadata": {
    "collapsed": false
   },
   "outputs": [],
   "source": [
    "X = data.select(lambda x: x != 'Rings', axis=1).as_matrix()\n",
    "Y = data.select(lambda x: x == 'Rings', axis=1).as_matrix()"
   ]
  },
  {
   "cell_type": "code",
   "execution_count": 25,
   "metadata": {
    "collapsed": false
   },
   "outputs": [
    {
     "name": "stderr",
     "output_type": "stream",
     "text": [
      "C:\\Users\\anton\\Anaconda2\\lib\\site-packages\\ipykernel\\__main__.py:16: DataConversionWarning: A column-vector y was passed when a 1d array was expected. Please change the shape of y to (n_samples,), for example using ravel().\n"
     ]
    },
    {
     "name": "stdout",
     "output_type": "stream",
     "text": [
      "1 0.0816394596193\n",
      "2 0.303339296879\n",
      "3 0.379977739405\n",
      "4 0.436456768519\n",
      "5 0.443374158507\n",
      "6 0.451244339343\n",
      "7 0.470617141432\n",
      "8 0.493406077737\n",
      "9 0.481028669796\n",
      "10 0.495856703307\n",
      "11 0.503864221763\n",
      "12 0.502818490457\n",
      "13 0.502704478336\n",
      "14 0.512313129598\n",
      "15 0.508606658654\n",
      "16 0.514868092214\n",
      "17 0.504629313245\n",
      "18 0.513839530662\n",
      "19 0.505263452737\n",
      "20 0.515850854006\n",
      "21 0.513684309213\n",
      "22 0.51631358378\n",
      "23 0.522732234141\n",
      "24 0.522018793512\n",
      "25 0.521845715701\n",
      "26 0.526672011072\n",
      "27 0.529659922195\n",
      "28 0.522623411318\n",
      "29 0.515677940979\n",
      "30 0.520881887975\n",
      "31 0.525342806651\n",
      "32 0.524503182194\n",
      "33 0.524243024426\n",
      "34 0.523943515397\n",
      "35 0.524766858105\n",
      "36 0.522436492751\n",
      "37 0.532721696132\n",
      "38 0.531229602738\n",
      "39 0.524759667945\n",
      "40 0.52726583613\n",
      "41 0.527390076821\n",
      "42 0.527063854555\n",
      "43 0.530582824621\n",
      "44 0.521673077785\n",
      "45 0.527096234691\n",
      "46 0.526446082516\n",
      "47 0.529273797251\n",
      "48 0.52766328819\n",
      "49 0.530741388232\n",
      "50 0.532581241242\n"
     ]
    }
   ],
   "source": [
    "import numpy as np\n",
    "from sklearn.ensemble import RandomForestRegressor\n",
    "from sklearn.metrics import r2_score\n",
    "from sklearn.model_selection import KFold\n",
    "min_err = 0xffffff\n",
    "min_n = -1\n",
    "for i in range( 1 , 51 ):\n",
    "    kf =KFold(n_splits=5,shuffle=True,random_state=1)\n",
    "    err = 0\n",
    "    for train_index, test_index in kf.split(X):\n",
    "        #print len( X ) , train_index , test_index\n",
    "        Y_train, Y_test = Y[train_index], Y[test_index]\n",
    "        X_train, X_test = X[[train_index]], X[[test_index]]\n",
    "        \n",
    "        clf = RandomForestRegressor(n_estimators=i)\n",
    "        clf.fit(X_train, Y_train)\n",
    "        predictions = clf.predict(X_test)\n",
    "        err += r2_score(Y_test,predictions)\n",
    "    print i , err / 5\n"
   ]
  },
  {
   "cell_type": "code",
   "execution_count": null,
   "metadata": {
    "collapsed": true
   },
   "outputs": [],
   "source": []
  }
 ],
 "metadata": {
  "anaconda-cloud": {},
  "kernelspec": {
   "display_name": "Python [conda root]",
   "language": "python",
   "name": "conda-root-py"
  },
  "language_info": {
   "codemirror_mode": {
    "name": "ipython",
    "version": 2
   },
   "file_extension": ".py",
   "mimetype": "text/x-python",
   "name": "python",
   "nbconvert_exporter": "python",
   "pygments_lexer": "ipython2",
   "version": "2.7.12"
  }
 },
 "nbformat": 4,
 "nbformat_minor": 1
}
