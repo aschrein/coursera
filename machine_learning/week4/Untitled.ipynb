{
 "cells": [
  {
   "cell_type": "code",
   "execution_count": 1,
   "metadata": {
    "collapsed": true
   },
   "outputs": [],
   "source": [
    "import pandas"
   ]
  },
  {
   "cell_type": "code",
   "execution_count": 14,
   "metadata": {
    "collapsed": false
   },
   "outputs": [],
   "source": [
    "data = pandas.read_csv( \"salary-train.csv\" )#.applymap(lambda x: str( x ).lower())"
   ]
  },
  {
   "cell_type": "code",
   "execution_count": 45,
   "metadata": {
    "collapsed": false
   },
   "outputs": [],
   "source": [
    "data[\"FullDescription\"].fillna('nan', inplace=True)\n",
    "data[\"LocationNormalized\"].fillna('nan', inplace=True)\n",
    "data[\"ContractTime\"].fillna('nan', inplace=True)\n",
    "x = data[[\"FullDescription\",\"LocationNormalized\",\"ContractTime\"]].applymap(lambda x: str( x ).lower())\n",
    "data[\"FullDescription\"]=data[\"FullDescription\"].replace('[^a-zA-Z0-9]', ' ', regex = True)\n",
    "data[\"LocationNormalized\"]=data[\"LocationNormalized\"].replace('[^a-zA-Z0-9]', ' ', regex = True)\n",
    "data[\"ContractTime\"]=data[\"ContractTime\"].replace('[^a-zA-Z0-9]', ' ', regex = True)\n",
    "y = data[[\"SalaryNormalized\"]]\n",
    "#print( x )"
   ]
  },
  {
   "cell_type": "code",
   "execution_count": 46,
   "metadata": {
    "collapsed": false
   },
   "outputs": [],
   "source": [
    "from sklearn.feature_extraction.text import TfidfVectorizer\n",
    "fvec = TfidfVectorizer( min_df=5)\n",
    "desc = fvec.fit_transform( data[\"FullDescription\"] )"
   ]
  },
  {
   "cell_type": "code",
   "execution_count": 47,
   "metadata": {
    "collapsed": false
   },
   "outputs": [],
   "source": [
    "from sklearn.feature_extraction import DictVectorizer\n",
    "enc = DictVectorizer()\n",
    "X_train_categ = enc.fit_transform(x[['LocationNormalized', 'ContractTime']].to_dict('records'))\n",
    "from scipy.sparse import hstack\n",
    "#X_test_categ = enc.transform(data_test[['LocationNormalized', 'ContractTime']].to_dict('records'))"
   ]
  },
  {
   "cell_type": "code",
   "execution_count": 48,
   "metadata": {
    "collapsed": false
   },
   "outputs": [],
   "source": [
    "#print( desc )\n",
    "#print( X_train_categ )\n",
    "x = hstack([desc,X_train_categ])"
   ]
  },
  {
   "cell_type": "code",
   "execution_count": 49,
   "metadata": {
    "collapsed": false
   },
   "outputs": [
    {
     "data": {
      "text/plain": [
       "Ridge(alpha=1.0, copy_X=True, fit_intercept=True, max_iter=None,\n",
       "   normalize=False, random_state=None, solver='auto', tol=0.001)"
      ]
     },
     "execution_count": 49,
     "metadata": {},
     "output_type": "execute_result"
    }
   ],
   "source": [
    "from sklearn.linear_model import Ridge\n",
    "ridge = Ridge()\n",
    "ridge.fit( x , y )"
   ]
  },
  {
   "cell_type": "code",
   "execution_count": 51,
   "metadata": {
    "collapsed": false
   },
   "outputs": [
    {
     "name": "stdout",
     "output_type": "stream",
     "text": [
      "[[ 56558.80091057]\n",
      " [ 37202.67635711]]\n"
     ]
    }
   ],
   "source": [
    "test = pandas.read_csv( \"salary-test-mini.csv\" )\n",
    "test[\"FullDescription\"].fillna('nan', inplace=True)\n",
    "test[\"LocationNormalized\"].fillna('nan', inplace=True)\n",
    "test[\"ContractTime\"].fillna('nan', inplace=True)\n",
    "test = test[[\"FullDescription\",\"LocationNormalized\",\"ContractTime\"]].applymap(lambda x: str( x ).lower())\n",
    "test[\"FullDescription\"]=test[\"FullDescription\"].replace('[^a-zA-Z0-9]', ' ', regex = True)\n",
    "test[\"LocationNormalized\"]=test[\"LocationNormalized\"].replace('[^a-zA-Z0-9]', ' ', regex = True)\n",
    "test[\"ContractTime\"]=test[\"ContractTime\"].replace('[^a-zA-Z0-9]', ' ', regex = True)\n",
    "x = hstack([fvec.transform( test[\"FullDescription\"] ),enc.transform(test[['LocationNormalized', 'ContractTime']].to_dict('records'))])\n",
    "print(ridge.predict( x ))"
   ]
  },
  {
   "cell_type": "code",
   "execution_count": null,
   "metadata": {
    "collapsed": true
   },
   "outputs": [],
   "source": []
  }
 ],
 "metadata": {
  "anaconda-cloud": {},
  "kernelspec": {
   "display_name": "Python [conda root]",
   "language": "python",
   "name": "conda-root-py"
  },
  "language_info": {
   "codemirror_mode": {
    "name": "ipython",
    "version": 2
   },
   "file_extension": ".py",
   "mimetype": "text/x-python",
   "name": "python",
   "nbconvert_exporter": "python",
   "pygments_lexer": "ipython2",
   "version": "2.7.12"
  }
 },
 "nbformat": 4,
 "nbformat_minor": 1
}
